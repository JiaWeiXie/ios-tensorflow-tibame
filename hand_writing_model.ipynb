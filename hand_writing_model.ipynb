{
 "cells": [
  {
   "cell_type": "markdown",
   "metadata": {},
   "source": [
    "## 1 Prepare training data"
   ]
  },
  {
   "cell_type": "code",
   "execution_count": 21,
   "metadata": {},
   "outputs": [
    {
     "name": "stdout",
     "output_type": "stream",
     "text": [
      "Extracting mnist_data/train-images-idx3-ubyte.gz\n",
      "Extracting mnist_data/train-labels-idx1-ubyte.gz\n",
      "Extracting mnist_data/t10k-images-idx3-ubyte.gz\n",
      "Extracting mnist_data/t10k-labels-idx1-ubyte.gz\n"
     ]
    }
   ],
   "source": [
    "import tensorflow as tf\n",
    "\n",
    "from tensorflow.examples.tutorials.mnist import input_data\n",
    "\n",
    "tf.reset_default_graph()\n",
    "\n",
    "# 下載資料到 mnist_data/ 資料夾下\n",
    "mnist_data = input_data.read_data_sets('mnist_data', one_hot=True, reshape=False, validation_size=0)"
   ]
  },
  {
   "cell_type": "markdown",
   "metadata": {},
   "source": [
    "## 2 Create computal gragh"
   ]
  },
  {
   "cell_type": "markdown",
   "metadata": {},
   "source": [
    "> y = softmax(weights * x + biases)"
   ]
  },
  {
   "cell_type": "code",
   "execution_count": 22,
   "metadata": {},
   "outputs": [],
   "source": [
    "x = tf.placeholder(tf.float32, [None, 28, 28, 1], name='input_image')\n",
    "y = tf.placeholder(tf.float32, [None, 10], name='y')\n",
    "\n",
    "# 10個神經元 784px image\n",
    "weights = tf.Variable(tf.zeros([784, 10]), name='weights')\n",
    "biases = tf.Variable(tf.zeros([10]), name='biases')"
   ]
  },
  {
   "cell_type": "code",
   "execution_count": 23,
   "metadata": {},
   "outputs": [],
   "source": [
    "flatten_x = tf.reshape(x, [-1, 784], name='flatten_x')\n",
    "# [784, 10] x [100, 784] ==> Fail\n",
    "# [100, 784] x [784, 10] ==> [100, 10]\n",
    "# W x X\n",
    "wx = tf.matmul(flatten_x, weights, name='wx') # [100, 10]\n",
    "# WX + biases ==> 答案 v [-1, 10]\n",
    "final_y = tf.nn.softmax(wx + biases, name='prediction') # [100, 10]\n",
    "# [100, 10] --> 100張圖, 個別label的信心程度"
   ]
  },
  {
   "cell_type": "markdown",
   "metadata": {},
   "source": [
    "## 3 Loss function"
   ]
  },
  {
   "cell_type": "code",
   "execution_count": 24,
   "metadata": {},
   "outputs": [],
   "source": [
    "# Cross-entropy(適合分類): loss = - sum(y * log(finalY))\n",
    "\n",
    "# MARK: y * tf.log(final_y)\n",
    "# A = [[1, 2], [3, 4]] ==> Shape: [2, 2]\n",
    "# B = [[5, 6], [7, 8]] ==> Shape: [2, 2]\n",
    "# A * B = [[1 * 5,  2 * 6], [3 * 7, 4 * 8]] ==> Shape: [2, 2]\n",
    "\n",
    "# y ==> Shape: [None, 10]\n",
    "# finalY ==> Shape: [None, 10]\n",
    "# tf.log(finalY) ==> Shape: [None, 10]\n",
    "# y * tf.log(finalY) ==> Shape: [None, 10]\n",
    "\n",
    "# tf.reduce_mean(..., axis = 0) ==> [10]\n",
    "# 10 ==> 10種結果, 100 ==> 一次100張圖片\n",
    "\n",
    "# cross entropy: loss = - sum(Y * log(finalY))\n",
    "loss = - tf.reduce_mean(y * tf.log(final_y)) * 10 * 100\n",
    "train = tf.train.GradientDescentOptimizer(learning_rate=0.01).minimize(loss=loss)\n"
   ]
  },
  {
   "cell_type": "markdown",
   "metadata": {},
   "source": [
    "### Extra job for accuracy."
   ]
  },
  {
   "cell_type": "code",
   "execution_count": 25,
   "metadata": {},
   "outputs": [],
   "source": [
    "correct_prediction = tf.equal(\n",
    "    tf.arg_max(final_y, 1),\n",
    "    tf.arg_max(y, 1)\n",
    ") # True or False => [100] [T, F, T, F, ....]\n",
    "\n",
    "accuracy = tf.reduce_mean(\n",
    "    tf.cast(correct_prediction, tf.float32) # 轉型成float32\n",
    ")"
   ]
  },
  {
   "cell_type": "markdown",
   "metadata": {},
   "source": [
    "## 4 Run the session"
   ]
  },
  {
   "cell_type": "code",
   "execution_count": 26,
   "metadata": {},
   "outputs": [],
   "source": [
    "accuracy_results = []\n",
    "loss_results = []\n",
    "\n",
    "with tf.Session() as session:\n",
    "    session.run(tf.global_variables_initializer())\n",
    "    for step in range(2000):\n",
    "        # Get the training data from file\n",
    "        batch_x, batch_y = mnist_data.train.next_batch(100)\n",
    "        session.run(train, feed_dict={\n",
    "            x: batch_x,\n",
    "            y: batch_y\n",
    "        })\n",
    "        # train \n",
    "        accuracy_batch, loss_batch = session.run([accuracy, loss], feed_dict={\n",
    "            x: batch_x,\n",
    "            y: batch_y\n",
    "        })\n",
    "        # test\n",
    "        test_x = mnist_data.test.images\n",
    "        test_y = mnist_data.test.labels\n",
    "        accuracy_test, loss_test = session.run([accuracy, loss], feed_dict={\n",
    "            x: test_x,\n",
    "            y: test_y\n",
    "        })\n",
    "\n",
    "        accuracy_results.append({'accuracy_batch': accuracy_batch, 'accuracy_test': accuracy_test})\n",
    "        loss_results.append({'loss_batch': loss_batch, 'loss_test': loss_test})"
   ]
  },
  {
   "cell_type": "code",
   "execution_count": 27,
   "metadata": {},
   "outputs": [],
   "source": [
    "%matplotlib inline"
   ]
  },
  {
   "cell_type": "code",
   "execution_count": 28,
   "metadata": {},
   "outputs": [
    {
     "data": {
      "text/plain": [
       "<matplotlib.axes._subplots.AxesSubplot at 0x13a85e0b8>"
      ]
     },
     "execution_count": 28,
     "metadata": {},
     "output_type": "execute_result"
    },
    {
     "data": {
      "image/png": "[encoded data removed]",
      "text/plain": [
       "<Figure size 432x288 with 2 Axes>"
      ]
     },
     "metadata": {
      "needs_background": "light"
     },
     "output_type": "display_data"
    }
   ],
   "source": [
    "import pandas\n",
    "import matplotlib.pyplot as plt\n",
    "\n",
    "pd = pandas.DataFrame(accuracy_results)\n",
    "pd2 = pandas.DataFrame(loss_results)\n",
    "\n",
    "pd = pd[(pd > 0.85) & (pd < 0.95)]\n",
    "pd2 = pd2[pd2 < 40]\n",
    "\n",
    "fig, axes = plt.subplots(nrows=2, ncols=1)\n",
    "\n",
    "pd.plot(ax=axes[0])\n",
    "pd2.plot(ax=axes[1])"
   ]
  },
  {
   "cell_type": "markdown",
   "metadata": {},
   "source": [
    "## 5 Save"
   ]
  },
  {
   "cell_type": "code",
   "execution_count": 29,
   "metadata": {},
   "outputs": [],
   "source": [
    "with tf.Session() as session:\n",
    "    session.run(tf.global_variables_initializer())\n",
    "    \n",
    "    # Saver 必須在session還存在的情況使用\n",
    "    saver = tf.train.Saver()\n",
    "    \n",
    "    for step in range(2000):\n",
    "        # Get the training data from file\n",
    "        batch_x, batch_y = mnist_data.train.next_batch(100)\n",
    "        session.run(train, feed_dict={\n",
    "            x: batch_x,\n",
    "            y: batch_y\n",
    "        })\n",
    "        # train \n",
    "        accuracy_batch, loss_batch = session.run([accuracy, loss], feed_dict={\n",
    "            x: batch_x,\n",
    "            y: batch_y\n",
    "        })\n",
    "        # test\n",
    "        test_x = mnist_data.test.images\n",
    "        test_y = mnist_data.test.labels\n",
    "        accuracy_test, loss_test = session.run([accuracy, loss], feed_dict={\n",
    "            x: test_x,\n",
    "            y: test_y\n",
    "        })\n",
    "        \n",
    "    # save gragh/variables.\n",
    "    saver.save(session, './save/hand_write.ckpt')"
   ]
  },
  {
   "cell_type": "markdown",
   "metadata": {},
   "source": [
    "## 6 Restore"
   ]
  },
  {
   "cell_type": "code",
   "execution_count": 30,
   "metadata": {},
   "outputs": [
    {
     "name": "stdout",
     "output_type": "stream",
     "text": [
      "Extracting mnist_data/train-images-idx3-ubyte.gz\n",
      "Extracting mnist_data/train-labels-idx1-ubyte.gz\n",
      "Extracting mnist_data/t10k-images-idx3-ubyte.gz\n",
      "Extracting mnist_data/t10k-labels-idx1-ubyte.gz\n",
      "INFO:tensorflow:Restoring parameters from ./save/hand_write.ckpt\n",
      "Restore ok.\n"
     ]
    }
   ],
   "source": [
    "import tensorflow as tf\n",
    "\n",
    "from tensorflow.examples.tutorials.mnist import input_data\n",
    "\n",
    "tf.reset_default_graph()\n",
    "\n",
    "# 下載資料到 mnist_data/ 資料夾下\n",
    "mnist_data = input_data.read_data_sets('mnist_data', one_hot=True, reshape=False, validation_size=0)\n",
    "\n",
    "x = tf.placeholder(tf.float32, [None, 28, 28, 1], name='input_image')\n",
    "y = tf.placeholder(tf.float32, [None, 10], name='y')\n",
    "\n",
    "# 10個神經元 784px image\n",
    "weights = tf.Variable(tf.zeros([784, 10]), name='weights')\n",
    "biases = tf.Variable(tf.zeros([10]), name='biases')\n",
    "\n",
    "flatten_x = tf.reshape(x, [-1, 784], name='flatten_x')\n",
    "wx = tf.matmul(flatten_x, weights, name='wx') # [100, 10]\n",
    "final_y = tf.nn.softmax(wx + biases, name='prediction') # [100, 10]\n",
    "\n",
    "loss = - tf.reduce_mean(y * tf.log(final_y)) * 10 * 100\n",
    "train = tf.train.GradientDescentOptimizer(learning_rate=0.01).minimize(loss=loss)\n",
    "\n",
    "correct_prediction = tf.equal(\n",
    "    tf.arg_max(final_y, 1),\n",
    "    tf.arg_max(y, 1)\n",
    ") # True or False => [100] [T, F, T, F, ....]\n",
    "\n",
    "accuracy = tf.reduce_mean(\n",
    "    tf.cast(correct_prediction, tf.float32) # 轉型成float32\n",
    ")\n",
    "\n",
    "with tf.Session() as session:\n",
    "    session.run(tf.global_variables_initializer())\n",
    "    \n",
    "    # Saver 必須在session還存在的情況使用\n",
    "    saver = tf.train.Saver()\n",
    "    \n",
    "    # Try restore *.ckpt\n",
    "    exist = tf.train.get_checkpoint_state('./save/')\n",
    "    \n",
    "    if exist:\n",
    "        saver.restore(session, './save/hand_write.ckpt')\n",
    "        print('Restore ok.')\n",
    "    else:\n",
    "        print('No exist checkpoint.')\n",
    "    \n",
    "    # for step in range(2000):\n",
    "        ## Get the training data from file\n",
    "        # batch_x, batch_y = mnist_data.train.next_batch(100)\n",
    "        # session.run(train, feed_dict={x: batch_x, y: batch_y})\n",
    "        ## train \n",
    "        # accuracy_batch, loss_batch = session.run([accuracy, loss], feed_dict={x: batch_x, y: batch_y})\n",
    "        ## test\n",
    "        # test_x = mnist_data.test.images\n",
    "        # test_y = mnist_data.test.labels\n",
    "        # accuracy_test, loss_test = session.run([accuracy, loss], feed_dict={x: test_x, y: test_y})"
   ]
  },
  {
   "cell_type": "markdown",
   "metadata": {},
   "source": [
    "## Freeze"
   ]
  },
  {
   "cell_type": "code",
   "execution_count": 32,
   "metadata": {},
   "outputs": [
    {
     "name": "stdout",
     "output_type": "stream",
     "text": [
      "INFO:tensorflow:Froze 2 variables.\n",
      "INFO:tensorflow:Converted 2 variables to const ops.\n",
      "\n",
      "Loading the TF graph...\n",
      "Graph Loaded.\n",
      "Collecting all the 'Const' ops from the graph, by running it....\n",
      "Done.\n",
      "Now finding ops in the TF graph that can be dropped for inference\n",
      "Now starting translation to CoreML graph.\n",
      "Automatic shape interpretation succeeded for input blob input_image:0\n",
      "1/10: Analysing op name: flatten_x/shape ( type:  Const )\n",
      "2/10: Analysing op name: biases ( type:  Const )\n",
      "3/10: Analysing op name: biases/read ( type:  Identity )\n",
      "4/10: Analysing op name: weights ( type:  Const )\n",
      "5/10: Analysing op name: weights/read ( type:  Identity )\n",
      "6/10: Analysing op name: input_image ( type:  Placeholder )\n",
      "Skipping name of placeholder\n",
      "7/10: Analysing op name: flatten_x ( type:  Reshape )\n",
      "8/10: Analysing op name: wx ( type:  MatMul )\n",
      "9/10: Analysing op name: add ( type:  Add )\n",
      "10/10: Analysing op name: prediction ( type:  Softmax )\n",
      "Translation to CoreML spec completed. Now compiling and saving the CoreML model.\n",
      "\n",
      " Core ML model generated. Saved at location: ./model_output/MyHandWriteV1.mlmodel \n",
      "\n",
      "Core ML input(s): \n",
      " [name: \"input_image__0\"\n",
      "type {\n",
      "  imageType {\n",
      "    width: 28\n",
      "    height: 28\n",
      "    colorSpace: GRAYSCALE\n",
      "  }\n",
      "}\n",
      "]\n",
      "Core ML output(s): \n",
      " [name: \"prediction__0\"\n",
      "type {\n",
      "  dictionaryType {\n",
      "    stringKeyType {\n",
      "    }\n",
      "  }\n",
      "}\n",
      ", name: \"classLabel\"\n",
      "type {\n",
      "  stringType {\n",
      "  }\n",
      "}\n",
      "]\n"
     ]
    },
    {
     "data": {
      "text/plain": [
       "input {\n",
       "  name: \"input_image__0\"\n",
       "  type {\n",
       "    imageType {\n",
       "      width: 28\n",
       "      height: 28\n",
       "      colorSpace: GRAYSCALE\n",
       "    }\n",
       "  }\n",
       "}\n",
       "output {\n",
       "  name: \"prediction__0\"\n",
       "  type {\n",
       "    dictionaryType {\n",
       "      stringKeyType {\n",
       "      }\n",
       "    }\n",
       "  }\n",
       "}\n",
       "output {\n",
       "  name: \"classLabel\"\n",
       "  type {\n",
       "    stringType {\n",
       "    }\n",
       "  }\n",
       "}\n",
       "predictedFeatureName: \"classLabel\"\n",
       "predictedProbabilitiesName: \"prediction__0\""
      ]
     },
     "execution_count": 32,
     "metadata": {},
     "output_type": "execute_result"
    }
   ],
   "source": [
    "import tensorflow as tf\n",
    "from tensorflow.python.framework import graph_util\n",
    "import tfcoreml as tfconverter\n",
    "\n",
    "\n",
    "with tf.Session() as session:\n",
    "    session.run(tf.global_variables_initializer())\n",
    "    \n",
    "    # Saver 必須在session還存在的情況使用\n",
    "    saver = tf.train.Saver()\n",
    "    \n",
    "    for step in range(2000):\n",
    "        # Get the training data from file\n",
    "        batch_x, batch_y = mnist_data.train.next_batch(100)\n",
    "        session.run(train, feed_dict={\n",
    "            x: batch_x,\n",
    "            y: batch_y\n",
    "        })\n",
    "        # train \n",
    "        accuracy_batch, loss_batch = session.run([accuracy, loss], feed_dict={\n",
    "            x: batch_x,\n",
    "            y: batch_y\n",
    "        })\n",
    "        # test\n",
    "        test_x = mnist_data.test.images\n",
    "        test_y = mnist_data.test.labels\n",
    "        accuracy_test, loss_test = session.run([accuracy, loss], feed_dict={\n",
    "            x: test_x,\n",
    "            y: test_y\n",
    "        })\n",
    "        \n",
    "    # save gragh/variables.\n",
    "    saver.save(session, './save/hand_write.ckpt')\n",
    "    \n",
    "    # Freeze and save as a pb file.\n",
    "    frozen_gragh = graph_util.convert_variables_to_constants(session, session.graph_def, [final_y.op.name])\n",
    "    \n",
    "    # Check and let None beacome 1.去除None才不會失敗\n",
    "    for node in frozen_gragh.node:\n",
    "        if node.device:\n",
    "            node.device = ''\n",
    "        if 'shape' in node.attr:\n",
    "            node.attr['shape'].shape.dim[0].size = 1\n",
    "    # Save the pb file\n",
    "    tf.train.write_graph(frozen_gragh, '', './frozen/frozen_gragh.pb', as_text=False)\n",
    "    "
   ]
  },
  {
   "cell_type": "code",
   "execution_count": 33,
   "metadata": {},
   "outputs": [
    {
     "name": "stdout",
     "output_type": "stream",
     "text": [
      "\n",
      "Loading the TF graph...\n",
      "Graph Loaded.\n",
      "Collecting all the 'Const' ops from the graph, by running it....\n",
      "Done.\n",
      "Now finding ops in the TF graph that can be dropped for inference\n",
      "Now starting translation to CoreML graph.\n",
      "Automatic shape interpretation succeeded for input blob input_image:0\n",
      "1/10: Analysing op name: flatten_x/shape ( type:  Const )\n",
      "2/10: Analysing op name: biases ( type:  Const )\n",
      "3/10: Analysing op name: biases/read ( type:  Identity )\n",
      "4/10: Analysing op name: weights ( type:  Const )\n",
      "5/10: Analysing op name: weights/read ( type:  Identity )\n",
      "6/10: Analysing op name: input_image ( type:  Placeholder )\n",
      "Skipping name of placeholder\n",
      "7/10: Analysing op name: flatten_x ( type:  Reshape )\n",
      "8/10: Analysing op name: wx ( type:  MatMul )\n",
      "9/10: Analysing op name: add ( type:  Add )\n",
      "10/10: Analysing op name: prediction ( type:  Softmax )\n",
      "Translation to CoreML spec completed. Now compiling and saving the CoreML model.\n",
      "\n",
      " Core ML model generated. Saved at location: ./model_output/MyHandWriteV1.mlmodel \n",
      "\n",
      "Core ML input(s): \n",
      " [name: \"input_image__0\"\n",
      "type {\n",
      "  imageType {\n",
      "    width: 28\n",
      "    height: 28\n",
      "    colorSpace: GRAYSCALE\n",
      "  }\n",
      "}\n",
      "]\n",
      "Core ML output(s): \n",
      " [name: \"prediction__0\"\n",
      "type {\n",
      "  dictionaryType {\n",
      "    stringKeyType {\n",
      "    }\n",
      "  }\n",
      "}\n",
      ", name: \"classLabel\"\n",
      "type {\n",
      "  stringType {\n",
      "  }\n",
      "}\n",
      "]\n"
     ]
    },
    {
     "data": {
      "text/plain": [
       "input {\n",
       "  name: \"input_image__0\"\n",
       "  type {\n",
       "    imageType {\n",
       "      width: 28\n",
       "      height: 28\n",
       "      colorSpace: GRAYSCALE\n",
       "    }\n",
       "  }\n",
       "}\n",
       "output {\n",
       "  name: \"prediction__0\"\n",
       "  type {\n",
       "    dictionaryType {\n",
       "      stringKeyType {\n",
       "      }\n",
       "    }\n",
       "  }\n",
       "}\n",
       "output {\n",
       "  name: \"classLabel\"\n",
       "  type {\n",
       "    stringType {\n",
       "    }\n",
       "  }\n",
       "}\n",
       "predictedFeatureName: \"classLabel\"\n",
       "predictedProbabilitiesName: \"prediction__0\""
      ]
     },
     "execution_count": 33,
     "metadata": {},
     "output_type": "execute_result"
    }
   ],
   "source": [
    "# Convert pb to CoreML file format.\n",
    "tfconverter.convert(tf_model_path='./frozen/frozen_gragh.pb',\n",
    "                    mlmodel_path='./model_output/MyHandWriteV1.mlmodel',\n",
    "                    output_feature_names=['prediction:0'],\n",
    "                    image_input_names='input_image__0',\n",
    "                    class_labels='MyHandWriteV1.txt')"
   ]
  },
  {
   "cell_type": "code",
   "execution_count": null,
   "metadata": {},
   "outputs": [],
   "source": []
  }
 ],
 "metadata": {
  "kernelspec": {
   "display_name": "Python 3",
   "language": "python",
   "name": "python3"
  },
  "language_info": {
   "codemirror_mode": {
    "name": "ipython",
    "version": 3
   },
   "file_extension": ".py",
   "mimetype": "text/x-python",
   "name": "python",
   "nbconvert_exporter": "python",
   "pygments_lexer": "ipython3",
   "version": "3.6.4"
  }
 },
 "nbformat": 4,
 "nbformat_minor": 2
}
