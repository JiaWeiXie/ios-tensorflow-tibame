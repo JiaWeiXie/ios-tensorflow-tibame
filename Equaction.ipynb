{
 "cells": [
  {
   "cell_type": "markdown",
   "metadata": {},
   "source": [
    "## 1 Generate training data."
   ]
  },
  {
   "cell_type": "code",
   "execution_count": 15,
   "metadata": {},
   "outputs": [],
   "source": [
    "import numpy as np\n",
    "\n",
    "# 產生假訓練資料\n",
    "# y = 3 * x + 8 (模型結果函式)\n",
    "# y = weight * x + biases\n",
    "x_datas = np.random.rand(100).astype(np.float32)\n",
    "random = np.random.normal(0, 0.3, x_datas.shape) # 常態分佈產生亂數, shape跟x_datas一樣\n",
    "y_datas = 3 * x_datas + 8 + random\n",
    "\n",
    "# print('x_datas: ', x_datas, x_datas.shape)\n",
    "# print('y_datas: ', y_datas, y_datas.shape)"
   ]
  },
  {
   "cell_type": "markdown",
   "metadata": {},
   "source": [
    "## 2 Create computal gragh."
   ]
  },
  {
   "cell_type": "code",
   "execution_count": 16,
   "metadata": {},
   "outputs": [],
   "source": [
    "import tensorflow as tf\n",
    "\n",
    "tf.reset_default_graph()\n",
    "\n",
    "weights = tf.Variable(tf.ones([1]), dtype=tf.float32, name='weights')\n",
    "biases = tf.Variable(tf.zeros([1]), dtype=tf.float32, name='biases')\n",
    "y = weights * x_datas + biases"
   ]
  },
  {
   "cell_type": "markdown",
   "metadata": {},
   "source": [
    "## 3 Prepare loss function and optimizer."
   ]
  },
  {
   "cell_type": "code",
   "execution_count": 17,
   "metadata": {},
   "outputs": [],
   "source": [
    "# reduce --> 降階 => 0-D\n",
    "loss = tf.reduce_mean(tf.square(y - y_datas))\n",
    "# GradientDescent 梯度下降法\n",
    "# optimizer 優化器\n",
    "optimizer = tf.train.GradientDescentOptimizer(learning_rate=0.5) # 0.0~1.0\n",
    "train = optimizer.minimize(loss=loss)"
   ]
  },
  {
   "cell_type": "markdown",
   "metadata": {},
   "source": [
    "## 4 Run the session"
   ]
  },
  {
   "cell_type": "code",
   "execution_count": 18,
   "metadata": {},
   "outputs": [],
   "source": [
    "results = []\n",
    "\n",
    "with tf.Session() as session:\n",
    "    session.run(tf.global_variables_initializer())\n",
    "    for step in range(1000):\n",
    "        session.run(train)\n",
    "        results.append({\n",
    "            'loss': session.run(loss),\n",
    "            'weights': session.run(weights),\n",
    "            'biases': session.run(biases)\n",
    "        })"
   ]
  },
  {
   "cell_type": "code",
   "execution_count": 19,
   "metadata": {},
   "outputs": [
    {
     "name": "stdout",
     "output_type": "stream",
     "text": [
      "Requirement already satisfied: pandas in /Users/xiejiawei/.pyenv/versions/3.6.4/envs/ios_ml/lib/python3.6/site-packages (0.23.4)\n",
      "Requirement already satisfied: numpy>=1.9.0 in /Users/xiejiawei/.pyenv/versions/3.6.4/envs/ios_ml/lib/python3.6/site-packages (from pandas) (1.15.3)\n",
      "Requirement already satisfied: python-dateutil>=2.5.0 in /Users/xiejiawei/.pyenv/versions/3.6.4/envs/ios_ml/lib/python3.6/site-packages (from pandas) (2.7.4)\n",
      "Requirement already satisfied: pytz>=2011k in /Users/xiejiawei/.pyenv/versions/3.6.4/envs/ios_ml/lib/python3.6/site-packages (from pandas) (2018.6)\n",
      "Requirement already satisfied: six>=1.5 in /Users/xiejiawei/.pyenv/versions/3.6.4/envs/ios_ml/lib/python3.6/site-packages (from python-dateutil>=2.5.0->pandas) (1.10.0)\n",
      "Requirement already satisfied: matplotlib in /Users/xiejiawei/.pyenv/versions/3.6.4/envs/ios_ml/lib/python3.6/site-packages (3.0.1)\n",
      "Requirement already satisfied: cycler>=0.10 in /Users/xiejiawei/.pyenv/versions/3.6.4/envs/ios_ml/lib/python3.6/site-packages (from matplotlib) (0.10.0)\n",
      "Requirement already satisfied: python-dateutil>=2.1 in /Users/xiejiawei/.pyenv/versions/3.6.4/envs/ios_ml/lib/python3.6/site-packages (from matplotlib) (2.7.4)\n",
      "Requirement already satisfied: kiwisolver>=1.0.1 in /Users/xiejiawei/.pyenv/versions/3.6.4/envs/ios_ml/lib/python3.6/site-packages (from matplotlib) (1.0.1)\n",
      "Requirement already satisfied: pyparsing!=2.0.4,!=2.1.2,!=2.1.6,>=2.0.1 in /Users/xiejiawei/.pyenv/versions/3.6.4/envs/ios_ml/lib/python3.6/site-packages (from matplotlib) (2.2.2)\n",
      "Requirement already satisfied: numpy>=1.10.0 in /Users/xiejiawei/.pyenv/versions/3.6.4/envs/ios_ml/lib/python3.6/site-packages (from matplotlib) (1.15.3)\n",
      "Requirement already satisfied: six in /Users/xiejiawei/.pyenv/versions/3.6.4/envs/ios_ml/lib/python3.6/site-packages (from cycler>=0.10->matplotlib) (1.10.0)\n",
      "Requirement already satisfied: setuptools in /Users/xiejiawei/.pyenv/versions/3.6.4/envs/ios_ml/lib/python3.6/site-packages (from kiwisolver>=1.0.1->matplotlib) (39.1.0)\n"
     ]
    }
   ],
   "source": [
    "! pip install pandas\n",
    "! pip install matplotlib"
   ]
  },
  {
   "cell_type": "code",
   "execution_count": 20,
   "metadata": {},
   "outputs": [],
   "source": [
    "import pandas\n",
    "import matplotlib.pyplot as plt\n",
    "\n",
    "pd = pandas.DataFrame(results)\n",
    "# pd"
   ]
  },
  {
   "cell_type": "code",
   "execution_count": 21,
   "metadata": {},
   "outputs": [],
   "source": [
    "pd['weights'] = pd['weights'].map(lambda x: x[0])\n",
    "pd['biases'] = pd['biases'].map(lambda x: x[0])"
   ]
  },
  {
   "cell_type": "code",
   "execution_count": 22,
   "metadata": {},
   "outputs": [],
   "source": [
    "%matplotlib inline"
   ]
  },
  {
   "cell_type": "code",
   "execution_count": 23,
   "metadata": {},
   "outputs": [
    {
     "data": {
      "text/plain": [
       "<matplotlib.axes._subplots.AxesSubplot at 0x1247120f0>"
      ]
     },
     "execution_count": 23,
     "metadata": {},
     "output_type": "execute_result"
    },
    {
     "data": {
      "image/png": "[encoded data removed]",
      "text/plain": [
       "<Figure size 432x288 with 1 Axes>"
      ]
     },
     "metadata": {
      "needs_background": "light"
     },
     "output_type": "display_data"
    }
   ],
   "source": [
    "pd.plot()"
   ]
  },
  {
   "cell_type": "markdown",
   "metadata": {},
   "source": [
    "-------------------------------------"
   ]
  },
  {
   "cell_type": "code",
   "execution_count": 24,
   "metadata": {},
   "outputs": [],
   "source": [
    "import tensorflow as tf\n",
    "\n",
    "tf.reset_default_graph()\n",
    "random_weights = tf.random_uniform([1], -1.0, 1.0)\n",
    "\n",
    "# weights = tf.Variable(tf.ones([1]), dtype=tf.float32, name='weights')\n",
    "weights = tf.Variable(random_weights, dtype=tf.float32, name='weights')\n",
    "biases = tf.Variable(tf.zeros([1]), dtype=tf.float32, name='biases')\n",
    "y = weights * x_datas + biases"
   ]
  },
  {
   "cell_type": "code",
   "execution_count": 25,
   "metadata": {},
   "outputs": [],
   "source": [
    "# reduce --> 降階 => 0-D\n",
    "loss = tf.reduce_mean(tf.square(y - y_datas))\n",
    "# GradientDescent 梯度下降法\n",
    "# optimizer 優化器\n",
    "optimizer = tf.train.GradientDescentOptimizer(learning_rate=0.01) # 0.0~1.0\n",
    "train = optimizer.minimize(loss=loss)"
   ]
  },
  {
   "cell_type": "code",
   "execution_count": 26,
   "metadata": {},
   "outputs": [],
   "source": [
    "results = []\n",
    "\n",
    "with tf.Session() as session:\n",
    "    session.run(tf.global_variables_initializer())\n",
    "    for step in range(1000):\n",
    "        session.run(train)\n",
    "        results.append({\n",
    "            'loss': session.run(loss),\n",
    "            'weights': session.run(weights),\n",
    "            'biases': session.run(biases)\n",
    "        })"
   ]
  },
  {
   "cell_type": "code",
   "execution_count": 27,
   "metadata": {},
   "outputs": [
    {
     "data": {
      "text/plain": [
       "<matplotlib.axes._subplots.AxesSubplot at 0x121a08898>"
      ]
     },
     "execution_count": 27,
     "metadata": {},
     "output_type": "execute_result"
    },
    {
     "data": {
      "image/png": "[encoded data removed]",
      "text/plain": [
       "<Figure size 432x288 with 1 Axes>"
      ]
     },
     "metadata": {
      "needs_background": "light"
     },
     "output_type": "display_data"
    }
   ],
   "source": [
    "import pandas\n",
    "import matplotlib.pyplot as plt\n",
    "\n",
    "pd = pandas.DataFrame(results)\n",
    "\n",
    "pd['weights'] = pd['weights'].map(lambda x: x[0])\n",
    "pd['biases'] = pd['biases'].map(lambda x: x[0])\n",
    "\n",
    "pd.plot()"
   ]
  },
  {
   "cell_type": "markdown",
   "metadata": {},
   "source": [
    "## matplotlib draw (x, y)"
   ]
  },
  {
   "cell_type": "code",
   "execution_count": 28,
   "metadata": {},
   "outputs": [
    {
     "data": {
      "image/png": "[encoded data removed]",
      "text/plain": [
       "<Figure size 432x288 with 2 Axes>"
      ]
     },
     "metadata": {
      "needs_background": "light"
     },
     "output_type": "display_data"
    }
   ],
   "source": [
    "import matplotlib.pyplot as plot\n",
    "\n",
    "\n",
    "figure = plot.figure()\n",
    "# 2 x 1 第1子圖\n",
    "subplot1 = figure.add_subplot(2, 1, 1)\n",
    "subplot1.scatter(x_datas, y_datas)\n",
    "# 2 x 1 第2子圖\n",
    "subplot2 = figure.add_subplot(2, 1, 2)\n",
    "subplot2.scatter(y_datas, x_datas)\n",
    "plot.show()"
   ]
  },
  {
   "cell_type": "code",
   "execution_count": 33,
   "metadata": {},
   "outputs": [
    {
     "data": {
      "image/png": "[encoded data removed]",
      "text/plain": [
       "<Figure size 432x288 with 2 Axes>"
      ]
     },
     "metadata": {
      "needs_background": "light"
     },
     "output_type": "display_data"
    }
   ],
   "source": [
    "figure = plot.figure()\n",
    "subplot1 = figure.add_subplot(221)\n",
    "subplot1.scatter(x_datas, y_datas)\n",
    "subplot2 = figure.add_subplot(222)\n",
    "subplot2.scatter(y_datas, x_datas)\n",
    "plot.show()"
   ]
  },
  {
   "cell_type": "code",
   "execution_count": null,
   "metadata": {},
   "outputs": [],
   "source": []
  }
 ],
 "metadata": {
  "kernelspec": {
   "display_name": "Python 3",
   "language": "python",
   "name": "python3"
  },
  "language_info": {
   "codemirror_mode": {
    "name": "ipython",
    "version": 3
   },
   "file_extension": ".py",
   "mimetype": "text/x-python",
   "name": "python",
   "nbconvert_exporter": "python",
   "pygments_lexer": "ipython3",
   "version": "3.6.4"
  }
 },
 "nbformat": 4,
 "nbformat_minor": 2
}
