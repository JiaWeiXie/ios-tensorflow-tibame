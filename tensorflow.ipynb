{
 "cells": [
  {
   "cell_type": "code",
   "execution_count": 1,
   "metadata": {
    "scrolled": true
   },
   "outputs": [
    {
     "name": "stdout",
     "output_type": "stream",
     "text": [
      "Requirement already satisfied: tensorflow in /Users/xiejiawei/.pyenv/versions/3.6.4/envs/ios_ml/lib/python3.6/site-packages (1.11.0)\n",
      "Requirement already satisfied: protobuf>=3.6.0 in /Users/xiejiawei/.pyenv/versions/3.6.4/envs/ios_ml/lib/python3.6/site-packages (from tensorflow) (3.6.1)\n",
      "Requirement already satisfied: keras-applications>=1.0.5 in /Users/xiejiawei/.pyenv/versions/3.6.4/envs/ios_ml/lib/python3.6/site-packages (from tensorflow) (1.0.6)\n",
      "Requirement already satisfied: six>=1.10.0 in /Users/xiejiawei/.pyenv/versions/3.6.4/envs/ios_ml/lib/python3.6/site-packages (from tensorflow) (1.10.0)\n",
      "Requirement already satisfied: wheel>=0.26 in /Users/xiejiawei/.pyenv/versions/3.6.4/envs/ios_ml/lib/python3.6/site-packages (from tensorflow) (0.32.2)\n",
      "Requirement already satisfied: grpcio>=1.8.6 in /Users/xiejiawei/.pyenv/versions/3.6.4/envs/ios_ml/lib/python3.6/site-packages (from tensorflow) (1.16.0)\n",
      "Requirement already satisfied: absl-py>=0.1.6 in /Users/xiejiawei/.pyenv/versions/3.6.4/envs/ios_ml/lib/python3.6/site-packages (from tensorflow) (0.6.1)\n",
      "Requirement already satisfied: termcolor>=1.1.0 in /Users/xiejiawei/.pyenv/versions/3.6.4/envs/ios_ml/lib/python3.6/site-packages (from tensorflow) (1.1.0)\n",
      "Requirement already satisfied: setuptools<=39.1.0 in /Users/xiejiawei/.pyenv/versions/3.6.4/envs/ios_ml/lib/python3.6/site-packages (from tensorflow) (39.1.0)\n",
      "Requirement already satisfied: gast>=0.2.0 in /Users/xiejiawei/.pyenv/versions/3.6.4/envs/ios_ml/lib/python3.6/site-packages (from tensorflow) (0.2.0)\n",
      "Requirement already satisfied: numpy>=1.13.3 in /Users/xiejiawei/.pyenv/versions/3.6.4/envs/ios_ml/lib/python3.6/site-packages (from tensorflow) (1.15.3)\n",
      "Requirement already satisfied: keras-preprocessing>=1.0.3 in /Users/xiejiawei/.pyenv/versions/3.6.4/envs/ios_ml/lib/python3.6/site-packages (from tensorflow) (1.0.5)\n",
      "Requirement already satisfied: tensorboard<1.12.0,>=1.11.0 in /Users/xiejiawei/.pyenv/versions/3.6.4/envs/ios_ml/lib/python3.6/site-packages (from tensorflow) (1.11.0)\n",
      "Requirement already satisfied: astor>=0.6.0 in /Users/xiejiawei/.pyenv/versions/3.6.4/envs/ios_ml/lib/python3.6/site-packages (from tensorflow) (0.7.1)\n",
      "Requirement already satisfied: h5py in /Users/xiejiawei/.pyenv/versions/3.6.4/envs/ios_ml/lib/python3.6/site-packages (from keras-applications>=1.0.5->tensorflow) (2.8.0)\n",
      "Requirement already satisfied: markdown>=2.6.8 in /Users/xiejiawei/.pyenv/versions/3.6.4/envs/ios_ml/lib/python3.6/site-packages (from tensorboard<1.12.0,>=1.11.0->tensorflow) (3.0.1)\n",
      "Requirement already satisfied: werkzeug>=0.11.10 in /Users/xiejiawei/.pyenv/versions/3.6.4/envs/ios_ml/lib/python3.6/site-packages (from tensorboard<1.12.0,>=1.11.0->tensorflow) (0.14.1)\n"
     ]
    }
   ],
   "source": [
    "! pip install tensorflow"
   ]
  },
  {
   "cell_type": "code",
   "execution_count": 2,
   "metadata": {},
   "outputs": [],
   "source": [
    "# %matplotlib inline"
   ]
  },
  {
   "cell_type": "code",
   "execution_count": 3,
   "metadata": {},
   "outputs": [
    {
     "data": {
      "text/plain": [
       "'Hello I am Jason, 22 years old.'"
      ]
     },
     "execution_count": 3,
     "metadata": {},
     "output_type": "execute_result"
    }
   ],
   "source": [
    "'Hello I am %s, %d years old.' % ('Jason', 22)"
   ]
  },
  {
   "cell_type": "code",
   "execution_count": 4,
   "metadata": {},
   "outputs": [
    {
     "data": {
      "text/plain": [
       "'Hello I am Jason'"
      ]
     },
     "execution_count": 4,
     "metadata": {},
     "output_type": "execute_result"
    }
   ],
   "source": [
    "'Hello I am %s' % 'Jason'"
   ]
  },
  {
   "cell_type": "code",
   "execution_count": 5,
   "metadata": {},
   "outputs": [
    {
     "name": "stdout",
     "output_type": "stream",
     "text": [
      "b'hello world'\n"
     ]
    }
   ],
   "source": [
    "import tensorflow as tf\n",
    "\n",
    "#  建立運算圖\n",
    "hello = tf.constant('hello world')\n",
    "\n",
    "# 進行運算\n",
    "session = tf.Session()\n",
    "print(session.run(hello))\n",
    "\n",
    "session.close()"
   ]
  },
  {
   "cell_type": "code",
   "execution_count": 6,
   "metadata": {},
   "outputs": [],
   "source": [
    "import tensorflow as tf\n",
    "\n",
    "hello = tf.constant('hello world')\n",
    "\n",
    "with tf.Session() as session:\n",
    "    session.run(hello)"
   ]
  },
  {
   "cell_type": "markdown",
   "metadata": {},
   "source": [
    "## Ex1: TensorFlow加法"
   ]
  },
  {
   "cell_type": "code",
   "execution_count": 7,
   "metadata": {},
   "outputs": [
    {
     "name": "stdout",
     "output_type": "stream",
     "text": [
      "6\n"
     ]
    }
   ],
   "source": [
    "import tensorflow as tf\n",
    "\n",
    "# 重設Tensorflow環境\n",
    "tf.reset_default_graph()\n",
    "\n",
    "num1a = tf.constant(3)\n",
    "num1b = tf.constant(3)\n",
    "result1 = tf.add(num1a, num1b)\n",
    "\n",
    "with tf.Session() as session:\n",
    "    # 全域變數初始化\n",
    "    session.run(tf.global_variables_initializer())\n",
    "    value = session.run(result1)\n",
    "    print(value)"
   ]
  },
  {
   "cell_type": "markdown",
   "metadata": {},
   "source": [
    "## Tensorflow 增加tensor名稱"
   ]
  },
  {
   "cell_type": "markdown",
   "metadata": {},
   "source": [
    "3+3"
   ]
  },
  {
   "cell_type": "code",
   "execution_count": 8,
   "metadata": {},
   "outputs": [
    {
     "name": "stdout",
     "output_type": "stream",
     "text": [
      "Tensor(\"1A:0\", shape=(), dtype=int32)\n",
      "Tensor(\"1B:0\", shape=(), dtype=int32)\n",
      "Tensor(\"result1:0\", shape=(), dtype=int32)\n",
      "6\n"
     ]
    }
   ],
   "source": [
    "import tensorflow as tf\n",
    "\n",
    "# 重設Tensorflow環境\n",
    "tf.reset_default_graph()\n",
    "\n",
    "num1a = tf.constant(3, name='1A')\n",
    "num1b = tf.constant(3, name='1B')\n",
    "result1 = tf.add(num1a, num1b, name='result1')\n",
    "print(num1a)\n",
    "print(num1b)\n",
    "print(result1)\n",
    "\n",
    "with tf.Session() as session:\n",
    "    # 全域變數初始化\n",
    "    session.run(tf.global_variables_initializer())\n",
    "    value = session.run(result1)\n",
    "    print(value)"
   ]
  },
  {
   "cell_type": "markdown",
   "metadata": {},
   "source": [
    "## Ex2:  3 += 7\n",
    "```\n",
    " a = 3\n",
    " b = 7\n",
    " result = a + b\n",
    " a = result\n",
    "```"
   ]
  },
  {
   "cell_type": "code",
   "execution_count": 9,
   "metadata": {},
   "outputs": [
    {
     "name": "stdout",
     "output_type": "stream",
     "text": [
      "10\n",
      "num2a:  10\n"
     ]
    }
   ],
   "source": [
    "import tensorflow as tf\n",
    "# 重設Tensorflow環境\n",
    "tf.reset_default_graph()\n",
    "\n",
    "num2a = tf.Variable(3)\n",
    "num2b = tf.constant(7)\n",
    "result2 = tf.add(num2a, num2b)\n",
    "assign2 = tf.assign(num2a, result2)\n",
    "\n",
    "with tf.Session() as session:\n",
    "    # 全域變數初始化\n",
    "    session.run(tf.global_variables_initializer())\n",
    "    value = session.run(assign2)\n",
    "    print(value)\n",
    "    print('num2a: ', session.run(num2a))"
   ]
  },
  {
   "cell_type": "markdown",
   "metadata": {},
   "source": [
    "## Ex3: (3 += 1) run 8 times."
   ]
  },
  {
   "cell_type": "code",
   "execution_count": 10,
   "metadata": {},
   "outputs": [
    {
     "name": "stdout",
     "output_type": "stream",
     "text": [
      "run:  0 4\n",
      "run:  1 5\n",
      "run:  2 6\n",
      "run:  3 7\n",
      "run:  4 8\n",
      "run:  5 9\n",
      "run:  6 10\n",
      "run:  7 11\n",
      "Finally:  11\n"
     ]
    }
   ],
   "source": [
    "import tensorflow as tf\n",
    "# 重設Tensorflow環境\n",
    "tf.reset_default_graph()\n",
    "\n",
    "num3a = tf.Variable(3)\n",
    "num3b = tf.constant(1)\n",
    "result3 = tf.add(num3a, num3b)\n",
    "assign3 = tf.assign(num3a, result3)\n",
    "\n",
    "with tf.Session() as session:\n",
    "    # 全域變數初始化\n",
    "    session.run(tf.global_variables_initializer())\n",
    "    for i in range(8):\n",
    "        value = session.run(assign3)\n",
    "        print('run: ', i, value)\n",
    "    print('Finally: ', session.run(num3a))"
   ]
  },
  {
   "cell_type": "markdown",
   "metadata": {},
   "source": [
    "## Ex4: Shape 矩陣"
   ]
  },
  {
   "cell_type": "code",
   "execution_count": 11,
   "metadata": {},
   "outputs": [
    {
     "name": "stdout",
     "output_type": "stream",
     "text": [
      "num4a:  () Type:  Tensor(\"Const:0\", shape=(), dtype=int32)\n",
      "num4a_:  () Type:  Tensor(\"Const_1:0\", shape=(), dtype=float32)\n",
      "num4b:  () Type:  Tensor(\"ones:0\", shape=(), dtype=float32)\n",
      "num4c:  (1,) Type:  Tensor(\"ones_1:0\", shape=(1,), dtype=float32)\n",
      "num4d:  (3,)\n",
      "num4e:  (3, 2)\n",
      "num4f:  (2, 3)\n"
     ]
    }
   ],
   "source": [
    "import tensorflow as tf\n",
    "# 重設Tensorflow環境\n",
    "tf.reset_default_graph()\n",
    "\n",
    "# dot 0-D\n",
    "num4a = tf.constant(1)\n",
    "print('num4a: ', num4a.shape, 'Type: ', num4a)\n",
    "# dot 0-D\n",
    "num4a_ = tf.constant(1, dtype=tf.float32)\n",
    "print('num4a_: ', num4a_.shape, 'Type: ', num4a_)\n",
    "# dot 0-D\n",
    "num4b = tf.ones([]) # 1.0\n",
    "print('num4b: ', num4b.shape, 'Type: ', num4b)\n",
    "# 1-D\n",
    "num4c = tf.ones([1]) # [1.0] Vector\n",
    "print('num4c: ', num4c.shape, 'Type: ', num4c)\n",
    "# 1-D\n",
    "num4d = tf.ones([3]) # [1.0, 1.0, 1.0] Vector\n",
    "print('num4d: ', num4d.shape)\n",
    "# 2-D\n",
    "num4e = tf.ones([3, 2]) # [[1.0, 1.0]]\n",
    "print('num4e: ', num4e.shape)\n",
    "# 2-D\n",
    "# 一維2元素, 二維3元素\n",
    "num4f = tf.ones([2, 3])\n",
    "print('num4f: ', num4f.shape)\n",
    "# [\n",
    "#    [1.0, 1.0, 1.0],\n",
    "#    [1.0, 1.0, 1.0]\n",
    "# ]\n"
   ]
  },
  {
   "cell_type": "markdown",
   "metadata": {},
   "source": [
    "## Ex5: 1-Dimensions Operations"
   ]
  },
  {
   "cell_type": "code",
   "execution_count": 12,
   "metadata": {},
   "outputs": [
    {
     "name": "stdout",
     "output_type": "stream",
     "text": [
      "num5a:  (6,) Type:  Tensor(\"Const:0\", shape=(6,), dtype=int32)\n",
      "num3b:  (6,) Type:  Tensor(\"Const_1:0\", shape=(6,), dtype=int32)\n",
      "[ 4  8 12 16 20 24]\n"
     ]
    }
   ],
   "source": [
    "import tensorflow as tf\n",
    "# 重設Tensorflow環境\n",
    "tf.reset_default_graph()\n",
    "\n",
    "num5a = tf.constant([1, 3, 5, 7, 9, 11])\n",
    "print('num5a: ', num5a.shape, 'Type: ', num5a)\n",
    "# num5b = tf.constant([3, 5, 7, 9, 11]) is error\n",
    "num5b = tf.constant([3, 5, 7, 9, 11, 13])\n",
    "print('num3b: ', num5b.shape, 'Type: ', num5b)\n",
    "result5a = tf.add(num5a, num5b)\n",
    "\n",
    "\n",
    "with tf.Session() as session:\n",
    "    # 全域變數初始化\n",
    "    session.run(tf.global_variables_initializer())\n",
    "    value = session.run(result5a)\n",
    "    print(value)"
   ]
  },
  {
   "cell_type": "code",
   "execution_count": 13,
   "metadata": {},
   "outputs": [
    {
     "name": "stdout",
     "output_type": "stream",
     "text": [
      "num5a:  (6,) Type:  Tensor(\"Const:0\", shape=(6,), dtype=int32)\n",
      "num3b:  (6,) Type:  Tensor(\"Const_1:0\", shape=(6,), dtype=int32)\n",
      "[0 0 0 0 0 0]\n",
      "[0.33333333 0.6        0.71428571 0.77777778 0.81818182 0.84615385]\n"
     ]
    }
   ],
   "source": [
    "import tensorflow as tf\n",
    "# 重設Tensorflow環境\n",
    "tf.reset_default_graph()\n",
    "\n",
    "num5a = tf.constant([1, 3, 5, 7, 9, 11])\n",
    "print('num5a: ', num5a.shape, 'Type: ', num5a)\n",
    "# num5b = tf.constant([3, 5, 7, 9, 11]) is error\n",
    "num5b = tf.constant([3, 5, 7, 9, 11, 13])\n",
    "print('num3b: ', num5b.shape, 'Type: ', num5b)\n",
    "\n",
    "# 0-D(only one element) and 1-D ==> Broadcast\n",
    "num5c = tf.constant(3) # Broadcast ==> [3, 3, 3, 3, 3, 3]\n",
    "num5d = tf.constant([3])# Broadcast ==> [3, 3, 3, 3, 3, 3]\n",
    "\n",
    "result5a = tf.add(num5a, num5b)\n",
    "result5b = tf.add(num5a, num5c)\n",
    "result5c = tf.add(num5a, num5d)\n",
    "result5d = tf.subtract(num5a, num5b) # 相減\n",
    "result5e = tf.multiply(num5a, num5b) # 相乘\n",
    "result5f = tf.div(num5a, num5b) # 相除(整數)\n",
    "result5g = tf.divide(num5a, num5b) # 相除(小數)\n",
    "\n",
    "with tf.Session() as session:\n",
    "    # 全域變數初始化\n",
    "    session.run(tf.global_variables_initializer())\n",
    "    value = session.run(result5f)\n",
    "    print(value)\n",
    "    value = session.run(result5g)\n",
    "    print(value)"
   ]
  },
  {
   "cell_type": "markdown",
   "metadata": {},
   "source": [
    "## Ex6: Matrix"
   ]
  },
  {
   "cell_type": "code",
   "execution_count": 14,
   "metadata": {},
   "outputs": [
    {
     "name": "stdout",
     "output_type": "stream",
     "text": [
      "matrix6a shape:  (3, 2)\n",
      "[[11 26 41]\n",
      " [13 28 43]\n",
      " [13 40 67]]\n"
     ]
    }
   ],
   "source": [
    "import tensorflow as tf\n",
    "# 重設Tensorflow環境\n",
    "tf.reset_default_graph()\n",
    "\n",
    "matrix6a = tf.constant([[2, 3], [1, 4], [7, 2]])\n",
    "matrix6b = tf.constant([[1, 4, 7], [3, 6, 9]])\n",
    "\n",
    "print('matrix6a shape: ', matrix6a.shape)\n",
    "\n",
    "# 矩陣相乘\n",
    "# Shape: [A, B] X [B, C] ==> [A, C]\n",
    "result6 = tf.matmul(matrix6a, matrix6b)\n",
    "\n",
    "with tf.Session() as session:\n",
    "    # 全域變數初始化\n",
    "    session.run(tf.global_variables_initializer())\n",
    "    value = session.run(result6)\n",
    "    print(value)"
   ]
  },
  {
   "cell_type": "markdown",
   "metadata": {},
   "source": [
    "## Ex7: Matrix reshape"
   ]
  },
  {
   "cell_type": "code",
   "execution_count": 16,
   "metadata": {},
   "outputs": [
    {
     "name": "stdout",
     "output_type": "stream",
     "text": [
      "matrix7b:  [[ 1  3]\n",
      " [ 7  4]\n",
      " [ 9 13]\n",
      " [17 23]]\n",
      "matrix7c:  [[ 1  3  7  4]\n",
      " [ 9 13 17 23]]\n",
      "matrix7d:  [[ 1]\n",
      " [ 3]\n",
      " [ 7]\n",
      " [ 4]\n",
      " [ 9]\n",
      " [13]\n",
      " [17]\n",
      " [23]]\n",
      "matrix7e:  [[ 1  3  7  4  9 13 17 23]]\n"
     ]
    }
   ],
   "source": [
    "import tensorflow as tf\n",
    "# 重設Tensorflow環境\n",
    "tf.reset_default_graph()\n",
    "\n",
    "matrix7a = tf.constant([1, 3, 7, 4, 9, 13, 17, 23])\n",
    "matrix7b = tf.reshape(matrix7a, [4, 2])\n",
    "matrix7c = tf.reshape(matrix7a, [2, 4])\n",
    "matrix7d = tf.reshape(matrix7a, [8, 1])\n",
    "matrix7e = tf.reshape(matrix7a, [1, 8])\n",
    "\n",
    "with tf.Session() as session:\n",
    "    # 全域變數初始化\n",
    "    session.run(tf.global_variables_initializer()) # len == 8\n",
    "    print('matrix7b: ', session.run(matrix7b)) # 4 x 2\n",
    "    print('matrix7c: ', session.run(matrix7c)) # 2 x 4\n",
    "    print('matrix7d: ', session.run(matrix7d)) # 8 x 1\n",
    "    print('matrix7e: ', session.run(matrix7e)) # 1 x 8"
   ]
  },
  {
   "cell_type": "code",
   "execution_count": 17,
   "metadata": {},
   "outputs": [
    {
     "name": "stdout",
     "output_type": "stream",
     "text": [
      "matrix7f:  [ 1  3  7  4  9 13 17 23]\n"
     ]
    }
   ],
   "source": [
    "import tensorflow as tf\n",
    "# 重設Tensorflow環境\n",
    "tf.reset_default_graph()\n",
    "\n",
    "matrix7a = tf.constant([1, 3, 7, 4, 9, 13, 17, 23])\n",
    "matrix7c = tf.reshape(matrix7a, [2, 4])\n",
    "matrix7f = tf.reshape(matrix7a, [-1])\n",
    "\n",
    "with tf.Session() as session:\n",
    "    # 全域變數初始化\n",
    "    session.run(tf.global_variables_initializer()) # len == 8\n",
    "    print('matrix7f: ', session.run(matrix7f)) # 扁平化(展開)"
   ]
  },
  {
   "cell_type": "markdown",
   "metadata": {},
   "source": [
    "## Ex8: Placeholder"
   ]
  },
  {
   "cell_type": "code",
   "execution_count": 23,
   "metadata": {},
   "outputs": [
    {
     "name": "stdout",
     "output_type": "stream",
     "text": [
      "result8a:  [  2  12  49   4  81 143 221 345]\n"
     ]
    }
   ],
   "source": [
    "import tensorflow as tf\n",
    "# 重設Tensorflow環境\n",
    "tf.reset_default_graph()\n",
    "\n",
    "matrix8a = tf.constant([1, 3, 7, 4, 9, 13, 17, 23])\n",
    "placeholder8b = tf.placeholder(tf.int32, [8])\n",
    "\n",
    "result8a = tf.multiply(matrix8a, placeholder8b)\n",
    "\n",
    "with tf.Session() as session:\n",
    "    # 全域變數初始化\n",
    "    session.run(tf.global_variables_initializer()) # len == 8\n",
    "    print('result8a: ',\n",
    "          # 訓練模型時透過placeholder替換資料訓練\n",
    "          session.run(result8a, feed_dict={placeholder8b: [2, 4, 7, 1, 9, 11, 13, 15]})\n",
    "         )"
   ]
  },
  {
   "cell_type": "code",
   "execution_count": 24,
   "metadata": {},
   "outputs": [
    {
     "name": "stdout",
     "output_type": "stream",
     "text": [
      "result8a:  [   12    24    98    12   648  3003  1105 38295]\n"
     ]
    }
   ],
   "source": [
    "import tensorflow as tf\n",
    "# 重設Tensorflow環境\n",
    "tf.reset_default_graph()\n",
    "\n",
    "matrix8a = tf.constant([1, 3, 7, 4, 9, 13, 17, 23])\n",
    "placeholder8b = tf.placeholder(tf.int32, [8])\n",
    "placeholder8c = tf.placeholder(tf.int32, [8])\n",
    "\n",
    "result8a = tf.multiply(matrix8a, placeholder8b)\n",
    "result8b = tf.multiply(result8a, placeholder8c)\n",
    "\n",
    "with tf.Session() as session:\n",
    "    # 全域變數初始化\n",
    "    session.run(tf.global_variables_initializer()) # len == 8\n",
    "    print('result8a: ',\n",
    "          # 訓練模型時透過placeholder替換資料訓練\n",
    "          session.run(result8b, feed_dict={\n",
    "              placeholder8b: [2, 4, 7, 1, 9, 11, 13, 15],\n",
    "              placeholder8c: [6, 2, 2, 3, 8, 21, 5, 111],\n",
    "          })\n",
    "         )"
   ]
  },
  {
   "cell_type": "code",
   "execution_count": 25,
   "metadata": {},
   "outputs": [
    {
     "name": "stdout",
     "output_type": "stream",
     "text": [
      "result8a:  [   24    48   196    24  1296  6006  2210 76590]\n"
     ]
    }
   ],
   "source": [
    "import tensorflow as tf\n",
    "# 重設Tensorflow環境\n",
    "tf.reset_default_graph()\n",
    "\n",
    "matrix8a = tf.constant([1, 3, 7, 4, 9, 13, 17, 23])\n",
    "placeholder8b = tf.placeholder(tf.int32, [8])\n",
    "placeholder8c = tf.placeholder(tf.int32, [8])\n",
    "placeholder8d = tf.placeholder(tf.int32, [None])\n",
    "\n",
    "result8a = tf.multiply(matrix8a, placeholder8b)\n",
    "result8b = tf.multiply(result8a, placeholder8c)\n",
    "result8c = tf.multiply(result8b, placeholder8d)\n",
    "\n",
    "with tf.Session() as session:\n",
    "    # 全域變數初始化\n",
    "    session.run(tf.global_variables_initializer()) # len == 8\n",
    "    print('result8a: ',\n",
    "          # 訓練模型時透過placeholder替換資料訓練\n",
    "          session.run(result8c, feed_dict={\n",
    "              placeholder8b: [2, 4, 7, 1, 9, 11, 13, 15],\n",
    "              placeholder8c: [6, 2, 2, 3, 8, 21, 5, 111],\n",
    "              placeholder8d: [2],# 自動擴展\n",
    "          })\n",
    "         )"
   ]
  }
 ],
 "metadata": {
  "kernelspec": {
   "display_name": "Python 3",
   "language": "python",
   "name": "python3"
  },
  "language_info": {
   "codemirror_mode": {
    "name": "ipython",
    "version": 3
   },
   "file_extension": ".py",
   "mimetype": "text/x-python",
   "name": "python",
   "nbconvert_exporter": "python",
   "pygments_lexer": "ipython3",
   "version": "3.6.4"
  }
 },
 "nbformat": 4,
 "nbformat_minor": 2
}
